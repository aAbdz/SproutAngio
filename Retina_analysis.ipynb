{
 "cells": [
  {
   "cell_type": "code",
   "execution_count": 1,
   "id": "4dd1ecd5-4271-451e-9e11-529b6ce2a114",
   "metadata": {},
   "outputs": [],
   "source": [
    "import numpy as np\n",
    "import matplotlib.pyplot as plt\n",
    "import scipy\n",
    "from scipy import ndimage\n",
    "import tifffile\n",
    "from tifffile import imread\n",
    "from skimage.measure import label   \n",
    "from skimage.morphology import skeletonize, skeletonize_3d\n",
    "from skimage import morphology, filters\n",
    "from skan import Skeleton, summarize\n",
    "from skan import draw\n",
    "from skimage.draw import polygon\n",
    "import napari\n",
    "import os\n",
    "\n",
    "def modified_max_inscribed_circle(bw, f):    \n",
    "    D = ndimage.distance_transform_edt(bw)\n",
    "    Rs = -np.sort(-D, axis=None)\n",
    "    R = Rs[0]\n",
    "    RInds = np.argsort(-D, axis=None)\n",
    "    RInds = RInds[Rs >= f*R]\n",
    "    [cy, cx] = np.unravel_index(RInds, D.shape)\n",
    "    return R, cx, cy\n",
    "\n",
    "def create_circular_mask(h, w, center=None, radius=None):\n",
    "    if center is None: \n",
    "        center = (int(w/2), int(h/2))\n",
    "    if radius is None: \n",
    "        radius = min(center[0], center[1], w-center[0], h-center[1])\n",
    "\n",
    "    Y, X = np.ogrid[:h, :w]\n",
    "    dist_from_center = np.sqrt((X - center[0])**2 + (Y-center[1])**2)\n",
    "\n",
    "    mask = dist_from_center <= radius\n",
    "    return mask\n",
    "\n",
    "viewer = napari.Viewer()"
   ]
  },
  {
   "cell_type": "code",
   "execution_count": 2,
   "id": "8fa19f19-c35d-4e0c-9182-cf74b17f65ef",
   "metadata": {},
   "outputs": [],
   "source": [
    "# Reading the retina .tif image\n",
    "im1= imread(\"invivodata/creminus/cre-01.tif\")\n",
    "image_array1 = np.array(im1)\n",
    "print(image_array1.shape)\n",
    "viewer.add_image(image_array1)"
   ]
  },
  {
   "cell_type": "code",
   "execution_count": 4,
   "id": "f8fe8317-cf4c-4829-ad6d-7fd456c5c202",
   "metadata": {},
   "outputs": [],
   "source": [
    "# crreating a filled polygon to draw a central bead:\n",
    "shapes = viewer.layers[\"Shapes\"].data\n",
    "\n",
    "substitute_sprout = np.zeros((image_array1.shape[0], image_array1.shape[1]), 'uint8')\n",
    "for i in shapes:\n",
    "    polygon1 = []\n",
    "    for ii in i:    \n",
    "        polygon1.append(ii)\n",
    "    for iii in polygon1:\n",
    "        int_array = i.astype(int)\n",
    "        listem = []\n",
    "    for iiii in int_array:\n",
    "        a = iiii[0]\n",
    "        b = iiii[1]\n",
    "        listem.append((a,b))\n",
    "        listem_array = np.array(listem)        \n",
    "\n",
    "    poly = listem_array\n",
    "    rr, cc = polygon(poly[:,0], poly[:,1])\n",
    "substitute_sprout[rr,cc] = 255\n",
    "sprout_subs = np.array(substitute_sprout)\n",
    "plt.imshow(sprout_subs)"
   ]
  },
  {
   "cell_type": "code",
   "execution_count": 5,
   "id": "1b9eb999-008f-4159-9a00-3f812dda6f7e",
   "metadata": {},
   "outputs": [],
   "source": [
    "R, cx, cy = modified_max_inscribed_circle(sprout_subs, f=0.9)\n",
    "im_med = scipy.ndimage.median_filter(image_array1, size=(6,6)) \n",
    "sz = im_med.shape\n",
    "bead = np.zeros(sz, dtype=bool)\n",
    "for i in range(0, len(cx), len(cx)//2):\n",
    "    # You can change radius to R*n in order to get the correct seperation of sprouts\n",
    "    circ_ = create_circular_mask(sz[0], sz[1], center=(cx[i],cy[i]), radius=R*0.5)\n",
    "    bead = np.logical_or(bead, circ_)\n",
    "\n",
    "bead_removed = im_med\n",
    "bead_removed[bead==1]=0\n",
    "\n",
    "branches = bead_removed > filters.threshold_otsu(bead_removed)\n",
    "plt.imshow(branches)"
   ]
  },
  {
   "cell_type": "code",
   "execution_count": 6,
   "id": "62dcd7d1-04a0-4062-8c65-0483d8afffab",
   "metadata": {},
   "outputs": [],
   "source": [
    "skeleton_scikit1 = skeletonize(branches)\n",
    "fig, ax = plt.subplots(figsize=(10, 10))\n",
    "draw.overlay_skeleton_2d(branches, skeleton_scikit1, dilate=1, axes=ax)\n",
    "#plt.savefig('branch analysis results/cre+3_05R.png', dpi = 300)"
   ]
  },
  {
   "cell_type": "code",
   "execution_count": 9,
   "id": "feda977c-2621-4580-aff4-47a24fcb2316",
   "metadata": {},
   "outputs": [],
   "source": [
    "branch_data1 = summarize(Skeleton(skeleton_scikit1))\n",
    "print(\"Total skeleton length:\", branch_data1[\"branch-distance\"].sum())\n",
    "\n",
    "branch_data1.hist(column='branch-distance', bins=100, range=(0,160))\n",
    "#plt.savefig('branch analysis results 2022-06-08/cre+3 graph 07R.png', dpi = 300)\n",
    "\n",
    "print(\"Total branch number:\", len(branch_data1[\"branch-distance\"]))\n",
    "print(\"Number of branches longer than 40px:\", len(branch_data1[branch_data1[\"branch-distance\"]>40]))"
   ]
  },
  {
   "cell_type": "code",
   "execution_count": 21,
   "id": "039001b7-1811-4e8c-b65b-f4065bab8f5f",
   "metadata": {},
   "outputs": [],
   "source": [
    "# Drawing the pie chart to simplify the results:\n",
    "Total_branch_number = len(branch_data1[\"branch-distance\"])\n",
    "long_branches = len(branch_data1[branch_data1[\"branch-distance\"]>40])\n",
    "short_branches = Total_branch_number-long_branches\n",
    "\n",
    "labels = [\"long_branches\", \"short_branches\"]\n",
    "y = np.array([long_branches,short_branches])\n",
    "plt.pie(y, labels = labels, startangle = 90, explode=(0.1, 0.1), autopct='%1.2f%%')"
   ]
  }
 ],
 "metadata": {
  "kernelspec": {
   "display_name": "Python 3 (ipykernel)",
   "language": "python",
   "name": "python3"
  },
  "language_info": {
   "codemirror_mode": {
    "name": "ipython",
    "version": 3
   },
   "file_extension": ".py",
   "mimetype": "text/x-python",
   "name": "python",
   "nbconvert_exporter": "python",
   "pygments_lexer": "ipython3",
   "version": "3.10.4"
  }
 },
 "nbformat": 4,
 "nbformat_minor": 5
}
