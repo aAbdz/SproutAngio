{
 "cells": [
  {
   "cell_type": "code",
   "execution_count": 8,
   "id": "f1f2ff0b-9317-493e-82c7-85b0486120a4",
   "metadata": {},
   "outputs": [
    {
     "name": "stdout",
     "output_type": "stream",
     "text": [
      "ready\n"
     ]
    }
   ],
   "source": [
    "#path_for_results = \"dataset/image analysis results.xlsx\"\n",
    "path_for_results = \"branch analysis 2022-11-17.xlsx\"\n",
    "print(\"ready\")"
   ]
  },
  {
   "cell_type": "code",
   "execution_count": 9,
   "id": "ba634dfc-453d-4d4e-8c0d-547d3564617c",
   "metadata": {},
   "outputs": [],
   "source": [
    "import pandas as pd\n",
    "import matplotlib.pyplot as plt\n",
    "import seaborn as sns\n",
    "import scipy.stats as stats\n",
    "\n",
    "df = pd.read_excel(path_for_results).fillna(value=0)\n",
    "print(df.head(5))"
   ]
  },
  {
   "cell_type": "code",
   "execution_count": 12,
   "id": "6a145494-ebed-4118-8e04-62f035205e30",
   "metadata": {},
   "outputs": [],
   "source": [
    "# Testing if your data has normal distribution:\n",
    "data_s = \"radial expansion\"\n",
    "\n",
    "shapiro_test = stats.shapiro(df[data_s])\n",
    "print(shapiro_test)\n",
    "# if p<0.05 then NON normal distribution."
   ]
  },
  {
   "cell_type": "code",
   "execution_count": null,
   "id": "ba403c8b-598c-42c0-b1a0-ff689ad34ed0",
   "metadata": {},
   "outputs": [],
   "source": [
    "# drawing a heatmap to show all the data correlations:\n",
    "df_2 = df[[\"sprout length\",\"nuclei number\",\"sprout_number\",\"sprout volume\",\"tip_thickness\",\"mid_thickness\",\"end_thickness\",\"paired nuclei distance\"]]\n",
    "df_2 = df_2.loc[(df_2 != 0).all(axis=1)]\n",
    "\n",
    "sns.heatmap(df_2.corr(), square=True, cmap='icefire')\n",
    "plt.savefig('SproutAngio correlation.png', dpi = 300)\n",
    "plt.show()\n",
    "plt.clf()"
   ]
  },
  {
   "cell_type": "code",
   "execution_count": null,
   "id": "3a46530a-7128-458a-a246-8eeb8893ab7c",
   "metadata": {},
   "outputs": [],
   "source": [
    "# drawing detailed, individual correlation graphs:\n",
    "zero_midvsnuc = df[[\"nuclei number\",\"sprout length\"]]\n",
    "zero_midvsnuc = zero_midvsnuc.loc[(zero_midvsnuc != 0).all(axis=1)]\n",
    "\n",
    "mid_nuc = sns.lmplot(x=\"nuclei number\", y=\"sprout length\", data=zero_midvsnuc)\n",
    "plt.savefig('nuclei_num_vs_spr_length.png', dpi = 300)"
   ]
  },
  {
   "cell_type": "code",
   "execution_count": null,
   "id": "ba8224d1-7738-4d9e-9b6d-3aeb0cf35c8b",
   "metadata": {},
   "outputs": [],
   "source": [
    "# drawing boxplot graphs, showing also each data point:\n",
    "ax = sns.boxplot(x=\"group\", y=\"sprout volume\", data=df, palette=\"colorblind\")\n",
    "ax = sns.stripplot(x=\"group\", y=\"sprout volume\", data=df, color=\".15\")\n",
    "plt.savefig('sprout volume.png', dpi = 300)\n",
    "plt.show()\n",
    "\n",
    "# Showing the basic statistics:\n",
    "df.groupby([\"group\"])[\"sprout volume\"].describe()"
   ]
  },
  {
   "cell_type": "code",
   "execution_count": null,
   "id": "e3062a20-fb08-4233-bb20-8312ff48c9a4",
   "metadata": {},
   "outputs": [],
   "source": [
    "# Group comparison using Kruskal Wallis test:\n",
    "print(\"sprout_number ttest\",stats.kruskal(df[\"sprout length\"][df[\"group\"] == 10], df[\"sprout length\"][df[\"group\"] == 20]))"
   ]
  }
 ],
 "metadata": {
  "kernelspec": {
   "display_name": "Python 3 (ipykernel)",
   "language": "python",
   "name": "python3"
  },
  "language_info": {
   "codemirror_mode": {
    "name": "ipython",
    "version": 3
   },
   "file_extension": ".py",
   "mimetype": "text/x-python",
   "name": "python",
   "nbconvert_exporter": "python",
   "pygments_lexer": "ipython3",
   "version": "3.10.6"
  }
 },
 "nbformat": 4,
 "nbformat_minor": 5
}
