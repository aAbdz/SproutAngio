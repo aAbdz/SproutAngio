{
 "cells": [
  {
   "cell_type": "code",
   "execution_count": 23,
   "id": "e3ba91d3-c365-4d6a-8c1f-2e8b7303c848",
   "metadata": {},
   "outputs": [],
   "source": [
    "path_for_results = \"multi_analysis_results.xlsx\"\n",
    "print(\"ready\")"
   ]
  },
  {
   "cell_type": "code",
   "execution_count": 21,
   "id": "a0081c9a-a288-4b4a-a87d-f16b27a25db8",
   "metadata": {},
   "outputs": [],
   "source": [
    "import pandas as pd\n",
    "import matplotlib.pyplot as plt\n",
    "import seaborn as sns\n",
    "import scipy.stats as stats\n",
    "\n",
    "df = pd.read_excel(path_for_results).fillna(value=0)\n",
    "print(df.head(5))"
   ]
  },
  {
   "cell_type": "code",
   "execution_count": 5,
   "id": "b5dee152-8a2a-4bc2-8e0e-75835a5f8303",
   "metadata": {},
   "outputs": [],
   "source": [
    "# Testing if your data has normal distribution:\n",
    "data_s = \"nuclei number\"\n",
    "\n",
    "shapiro_test = stats.shapiro(df[data_s])\n",
    "print(shapiro_test)\n",
    "# if p<0.05 then NON normal distribution."
   ]
  },
  {
   "cell_type": "code",
   "execution_count": 6,
   "id": "3f1d4073-edc8-41b6-9abd-7b2949a24699",
   "metadata": {},
   "outputs": [],
   "source": [
    "# drawing a heatmap to show all the data correlations:\n",
    "df_2 = df[[\"total skeleton length\",\"average skeleton length\",\"sprout number\",\"nuclei number\",\"tip width\",\"stalk width\",\"root width\",\"sprout volume\",\"average paired nuclei distance\"]]\n",
    "df_2 = df_2.loc[(df_2 != 0).all(axis=1)]\n",
    "\n",
    "sns.heatmap(df_2.corr(), square=True, cmap='icefire')\n",
    "#plt.savefig('SproutAngio correlation.png', dpi = 300)\n",
    "plt.show()\n",
    "plt.clf()"
   ]
  },
  {
   "cell_type": "code",
   "execution_count": 8,
   "id": "4d733172-1511-42cf-a691-c74a703aed05",
   "metadata": {},
   "outputs": [],
   "source": [
    "# drawing detailed, individual correlation graphs:\n",
    "zero_midvsnuc = df[[\"nuclei number\",\"total skeleton length\"]]\n",
    "zero_midvsnuc = zero_midvsnuc.loc[(zero_midvsnuc != 0).all(axis=1)]\n",
    "\n",
    "mid_nuc = sns.lmplot(x=\"nuclei number\", y=\"total skeleton length\", data=zero_midvsnuc)\n",
    "#plt.savefig('nuclei_num_vs_spr_length.png', dpi = 300)"
   ]
  },
  {
   "cell_type": "code",
   "execution_count": 15,
   "id": "d53b736f-bb35-445a-b606-e5da645848a8",
   "metadata": {},
   "outputs": [],
   "source": [
    "# drawing boxplot graphs, showing also each data point:\n",
    "ax = sns.boxplot(x=\"group\", y=\"sprout length\", data=df, palette=\"colorblind\")\n",
    "ax = sns.stripplot(x=\"group\", y=\"sprout length\", data=df, color=\".15\")\n",
    "#plt.savefig('nuclei number.png', dpi = 300)\n",
    "plt.show()\n",
    "\n",
    "# Showing the basic statistics:\n",
    "df.groupby([\"group\"])[\"sprout length\"].describe()"
   ]
  },
  {
   "cell_type": "code",
   "execution_count": 22,
   "id": "d72a4461-c38d-4a98-902d-02f017497724",
   "metadata": {},
   "outputs": [],
   "source": [
    "# Group comparison using Kruskal Wallis test:\n",
    "print(\"nuclei_number ttest\",stats.kruskal(df[\"sprout length\"][df[\"group\"] == \"10ng\"], df[\"sprout length\"][df[\"group\"] == \"untreated\"]))"
   ]
  }
 ],
 "metadata": {
  "kernelspec": {
   "display_name": "Python 3 (ipykernel)",
   "language": "python",
   "name": "python3"
  },
  "language_info": {
   "codemirror_mode": {
    "name": "ipython",
    "version": 3
   },
   "file_extension": ".py",
   "mimetype": "text/x-python",
   "name": "python",
   "nbconvert_exporter": "python",
   "pygments_lexer": "ipython3",
   "version": "3.9.16"
  }
 },
 "nbformat": 4,
 "nbformat_minor": 5
}
