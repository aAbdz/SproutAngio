{
 "cells": [
  {
   "cell_type": "code",
   "execution_count": 40,
   "id": "65321e65-bf48-4892-9508-f894dd236b6a",
   "metadata": {},
   "outputs": [],
   "source": [
    "image_path = 'dataset/plate/group2-01.czi'\n",
    "median_filtering = (7,7,7)\n",
    "second_filtering = (5,5)\n",
    "nuclei_median_filtering = (3,3,3)\n",
    "# bead radius:\n",
    "rad_ = 1.0"
   ]
  },
  {
   "cell_type": "code",
   "execution_count": 28,
   "id": "73156837-bbba-4217-af60-c94dd7991679",
   "metadata": {},
   "outputs": [
    {
     "name": "stdout",
     "output_type": "stream",
     "text": [
      "(1, 1, 1, 2, 41, 1024, 1024, 1)\n"
     ]
    }
   ],
   "source": [
    "# Importing necessary libraries and defining functions for the analysis:\n",
    "import numpy as np\n",
    "from czifile import CziFile\n",
    "from skimage.filters import threshold_li\n",
    "import scipy\n",
    "import matplotlib.pyplot as plt\n",
    "from skimage.measure import label   \n",
    "from scipy import ndimage\n",
    "from fil_finder import FilFinder2D\n",
    "import astropy.units as u\n",
    "from skimage.morphology import skeletonize as skeletonize_sci\n",
    "\n",
    "def getLargestCC(segmentation):\n",
    "    labels = label(segmentation)\n",
    "    assert(labels.max() != 0)\n",
    "    largestCC = labels == np.argmax(np.bincount(labels.flat)[1:])+1\n",
    "    return largestCC\n",
    "\n",
    "def modified_max_inscribed_circle(bw, f):    \n",
    "    D = ndimage.distance_transform_edt(bw)\n",
    "    Rs = -np.sort(-D, axis=None)\n",
    "    R = Rs[0]\n",
    "    RInds = np.argsort(-D, axis=None)\n",
    "    RInds = RInds[Rs >= f*R]\n",
    "    [cy, cx] = np.unravel_index(RInds, D.shape)\n",
    "    return R, cx, cy\n",
    "\n",
    "def create_circular_mask(h, w, center=None, radius=None):\n",
    "    if center is None: \n",
    "        center = (int(w/2), int(h/2))\n",
    "    if radius is None: \n",
    "        radius = min(center[0], center[1], w-center[0], h-center[1])\n",
    "\n",
    "    Y, X = np.ogrid[:h, :w]\n",
    "    dist_from_center = np.sqrt((X - center[0])**2 + (Y-center[1])**2)\n",
    "\n",
    "    mask = dist_from_center <= radius\n",
    "    return mask\n",
    "\n",
    "with CziFile(image_path) as im:\n",
    "    image_array = im.asarray()\n",
    "\n",
    "# checking the shape of the array\n",
    "print(image_array.shape)"
   ]
  },
  {
   "cell_type": "code",
   "execution_count": 30,
   "id": "b4306884-a26e-4b23-bfb2-c44bf582a205",
   "metadata": {},
   "outputs": [
    {
     "name": "stderr",
     "output_type": "stream",
     "text": [
      "Exception in callback BaseAsyncIOLoop._handle_events(7068, 1)\n",
      "handle: <Handle BaseAsyncIOLoop._handle_events(7068, 1)>\n",
      "Traceback (most recent call last):\n",
      "  File \"C:\\Users\\musta\\.conda\\envs\\mb22\\lib\\asyncio\\events.py\", line 80, in _run\n",
      "    self._context.run(self._callback, *self._args)\n",
      "  File \"C:\\Users\\musta\\.conda\\envs\\mb22\\lib\\site-packages\\tornado\\platform\\asyncio.py\", line 206, in _handle_events\n",
      "    handler_func(fileobj, events)\n",
      "  File \"C:\\Users\\musta\\.conda\\envs\\mb22\\lib\\site-packages\\zmq\\eventloop\\zmqstream.py\", line 577, in _handle_events\n",
      "    self._handle_recv()\n",
      "  File \"C:\\Users\\musta\\.conda\\envs\\mb22\\lib\\site-packages\\zmq\\eventloop\\zmqstream.py\", line 606, in _handle_recv\n",
      "    self._run_callback(callback, msg)\n",
      "  File \"C:\\Users\\musta\\.conda\\envs\\mb22\\lib\\site-packages\\zmq\\eventloop\\zmqstream.py\", line 556, in _run_callback\n",
      "    callback(*args, **kwargs)\n",
      "  File \"C:\\Users\\musta\\.conda\\envs\\mb22\\lib\\site-packages\\jupyter_client\\threaded.py\", line 123, in _handle_recv\n",
      "    msg_list = self.ioloop._asyncio_event_loop.run_until_complete(get_msg(future_msg))\n",
      "  File \"C:\\Users\\musta\\.conda\\envs\\mb22\\lib\\asyncio\\base_events.py\", line 622, in run_until_complete\n",
      "    self._check_running()\n",
      "  File \"C:\\Users\\musta\\.conda\\envs\\mb22\\lib\\asyncio\\base_events.py\", line 584, in _check_running\n",
      "    raise RuntimeError(\n",
      "RuntimeError: Cannot run the event loop while another loop is running\n"
     ]
    }
   ],
   "source": [
    "# defining the correct channels into new arrays based on the above (3) shape\n",
    "im_sprout = image_array[0,0,0,0,:,:,:,0]\n",
    "im_nuclei = image_array[0,0,0,1,:,:,:,0]\n",
    "\n",
    "# Opening napari\n",
    "import napari\n",
    "viewer = napari.view_image(im_sprout, name='im_sprout')"
   ]
  },
  {
   "cell_type": "code",
   "execution_count": 31,
   "id": "52a6170a-1989-4c89-b73d-72718ba61097",
   "metadata": {},
   "outputs": [
    {
     "name": "stderr",
     "output_type": "stream",
     "text": [
      "C:\\Users\\musta\\.conda\\envs\\mb22\\lib\\weakref.py:383: RuntimeWarning: coroutine 'get_msg' was never awaited\n",
      "  self._iterating = set()\n"
     ]
    },
    {
     "data": {
      "text/plain": [
       "<Labels layer 'skeleton_sci' at 0x1f6a4dfbf40>"
      ]
     },
     "execution_count": 31,
     "metadata": {},
     "output_type": "execute_result"
    }
   ],
   "source": [
    "# median filtering the sprout channel\n",
    "med_sprout = im_sprout\n",
    "med_sprout = scipy.ndimage.median_filter(med_sprout, size=median_filtering)\n",
    "\n",
    "viewer.add_image(med_sprout, name=\"med_sprout\")    \n",
    "\n",
    "# taking the maximum projection of the sprout channel and checking if median filtering size is ok\n",
    "max_proj_0 = np.max(im_sprout, axis=0)\n",
    "viewer.add_image(max_proj_0, name=\"max_projection\") \n",
    "\n",
    "max_projection = np.max(med_sprout, axis=0)\n",
    "viewer.add_image(max_projection, name=\"max_projection\")  \n",
    "\n",
    "# thresholding the max projection and filling the holes\n",
    "from skimage.filters import threshold_otsu\n",
    "bw_mproj = max_projection >= threshold_otsu(max_projection)\n",
    "viewer.add_image(bw_mproj, name=\"threshold_otsu\")  \n",
    "\n",
    "largest_cc = getLargestCC(bw_mproj)\n",
    "viewer.add_image(largest_cc, name=\"largest_cc\")  \n",
    "\n",
    "bw = ndimage.binary_fill_holes(largest_cc) * 1\n",
    "viewer.add_image(bw, name=\"fill_holes\")  \n",
    "\n",
    "# median filtering to make the sprouts smoother. \n",
    "# If the sprouts are not smooth, the analysis might find the skeleton wrong.\n",
    "med_bw = scipy.ndimage.median_filter(bw, size=second_filtering)\n",
    "viewer.add_image(med_bw, name=\"med_bw\")\n",
    "\n",
    "skeleton_sci = skeletonize_sci(med_bw)\n",
    "# Check bw, med_bw, skeleton images to see if you need to change the size of median filtering above, before passing this part. \n",
    "viewer.add_labels(skeleton_sci, name=\"skeleton_sci\")"
   ]
  },
  {
   "cell_type": "code",
   "execution_count": 32,
   "id": "398761e2-9427-4f3e-96a3-4015785c7b5e",
   "metadata": {},
   "outputs": [
    {
     "name": "stderr",
     "output_type": "stream",
     "text": [
      "C:\\Users\\musta\\.conda\\envs\\mb22\\lib\\site-packages\\astropy\\units\\quantity.py:611: RuntimeWarning: divide by zero encountered in divide\n",
      "  result = super().__array_ufunc__(function, method, *arrays, **kwargs)\n",
      "C:\\Users\\musta\\.conda\\envs\\mb22\\lib\\site-packages\\astropy\\units\\quantity.py:611: RuntimeWarning: invalid value encountered in divide\n",
      "  result = super().__array_ufunc__(function, method, *arrays, **kwargs)\n"
     ]
    },
    {
     "data": {
      "image/png": "[encoded data removed]",
      "text/plain": [
       "<Figure size 640x480 with 1 Axes>"
      ]
     },
     "metadata": {},
     "output_type": "display_data"
    },
    {
     "name": "stderr",
     "output_type": "stream",
     "text": [
      "C:\\Users\\musta\\.conda\\envs\\mb22\\lib\\site-packages\\fil_finder\\filament.py:326: UserWarning: Graph pruning reached max iterations.\n",
      "  warnings.warn(\"Graph pruning reached max iterations.\")\n"
     ]
    }
   ],
   "source": [
    "# Fil-finder analysis of skeletons\n",
    "# As long as it shows the branches, it is ok to continue with possible errors.\n",
    "fil = FilFinder2D(med_bw, ang_scale=0.1*u.deg, beamwidth=1*u.arcsec, mask=med_bw)\n",
    "fil.preprocess_image(flatten_percent=90)\n",
    "fil.medskel(verbose=True)\n",
    "fil.analyze_skeletons(skel_thresh=10*u.pix, prune_criteria=\"length\")\n",
    "branch_tables = fil.branch_tables()"
   ]
  },
  {
   "cell_type": "code",
   "execution_count": 33,
   "id": "6508520a-ffc7-419c-accf-23591d9d166f",
   "metadata": {},
   "outputs": [
    {
     "data": {
      "text/plain": [
       "<Labels layer 'sprouts' at 0x1f6b1344a90>"
      ]
     },
     "execution_count": 33,
     "metadata": {},
     "output_type": "execute_result"
    }
   ],
   "source": [
    "# defining the sprout area, bead and labeling the sprouts\n",
    "bb = fil.filament_extents\n",
    "num_skl = fil.branch_properties['number'].squeeze()\n",
    "pix_skl = fil.branch_properties['pixels'][0]\n",
    "pix_skl = [x+bb[0][0] for x in pix_skl]\n",
    "\n",
    "R, cx, cy = modified_max_inscribed_circle(bw, f=0.9)\n",
    "sz = bw.shape\n",
    "bead = np.zeros(sz, dtype=bool)\n",
    "if len(cx) > 200: sp = 10\n",
    "else: sp = 20 \n",
    "for i in range(0, len(cx), sp):\n",
    "    # You can change radius by changing rad_ value in the beginning to get the correct seperation of sprouts\n",
    "    circ_ = create_circular_mask(sz[0], sz[1], center=(cx[i],cy[i]), radius=R*rad_)\n",
    "    bead = np.logical_or(bead, circ_)\n",
    "viewer.add_image(bead, name=\"bead\")\n",
    "\n",
    "bw_rmv_bead = np.logical_and(med_bw, np.logical_not(bead))\n",
    "labels = label(bw_rmv_bead)\n",
    "lbls = np.unique(labels[(fil.skeleton).astype(np.bool_)])\n",
    "lbls_inx = np.nonzero(lbls)[0]\n",
    "\n",
    "L = 1\n",
    "sprouts = np.zeros(sz, dtype=np.uint8)\n",
    "for i in lbls_inx:\n",
    "    sprouts[labels==lbls[i]] = L\n",
    "    L += 1\n",
    "viewer.add_labels(sprouts, name=\"sprouts\")"
   ]
  },
  {
   "cell_type": "code",
   "execution_count": 34,
   "id": "c63db60b-25eb-401d-a183-6b65d807bc14",
   "metadata": {},
   "outputs": [
    {
     "data": {
      "text/plain": [
       "<Image layer 'max_projection_n' at 0x1f6ba845c60>"
      ]
     },
     "execution_count": 34,
     "metadata": {},
     "output_type": "execute_result"
    }
   ],
   "source": [
    "# Nuclei segmentation part begins\n",
    "# importing the necessary libraries, median filtering the nuclei array and creating a maximum projection image\n",
    "from skimage.transform import resize\n",
    "from skimage.segmentation import morphological_chan_vese, checkerboard_level_set\n",
    "from skimage.measure import label, regionprops\n",
    "from scipy.ndimage import gaussian_filter\n",
    "from skimage.morphology import local_maxima\n",
    "import skimage.graph\n",
    "\n",
    "def shortest_path(bw, st_p, end_p):         \n",
    "    costs = np.where(bw, 1, 1000)\n",
    "    path, cost = skimage.graph.route_through_array(\n",
    "        costs, start=st_p, end=end_p, fully_connected=True)\n",
    "    return path, cost\n",
    "\n",
    "viewer.add_image(im_nuclei, name=\"im_nuclei\")\n",
    "med_nuclei = im_nuclei\n",
    "for _ in range(2):\n",
    "    med_nuclei = scipy.ndimage.median_filter(med_nuclei, size=nuclei_median_filtering)\n",
    "viewer.add_image(med_nuclei, name=\"med_nuclei\")\n",
    "\n",
    "max_projection_n = np.max(med_nuclei, axis=0)\n",
    "viewer.add_image(max_projection_n, name=\"max_projection_n\")"
   ]
  },
  {
   "cell_type": "code",
   "execution_count": null,
   "id": "229626f5-f619-44d1-a5aa-7f1659b4fbd4",
   "metadata": {},
   "outputs": [],
   "source": [
    "# Optional: if you want to define an area to get rid of the extra parts at the sides of the image:\n",
    "# Example:\n",
    "# med_n_ds[:,:,480:512] = 0\n",
    "# plt.imshow(med_n_ds[10,:,:])"
   ]
  },
  {
   "cell_type": "code",
   "execution_count": 35,
   "id": "1a1f16ec-923d-4a3f-ac21-3b31627d5fb2",
   "metadata": {},
   "outputs": [
    {
     "data": {
      "text/plain": [
       "<Image layer 'med_n_ds' at 0x1f6b13189a0>"
      ]
     },
     "execution_count": 35,
     "metadata": {},
     "output_type": "execute_result"
    }
   ],
   "source": [
    "# Nuclei segmentation continues, omitting bead part (bead2) and other beads/migrated cells (bw_not)\n",
    "bead2 = np.zeros(sz, dtype=bool)\n",
    "bw_not = np.logical_not(bw)\n",
    "\n",
    "if len(cx) > 200: sp = 10\n",
    "else: sp = 20 \n",
    "for i in range(0, len(cx), sp):\n",
    "    # You can change radius to R*n in order to get the correct seperation of sprouts\n",
    "    circ_2 = create_circular_mask(sz[0], sz[1], center=(cx[i],cy[i]), radius=R*1)\n",
    "    bead2 = np.logical_or(bead2, circ_2)\n",
    "\n",
    "\n",
    "med_nuclei2 = med_nuclei.copy()\n",
    "for i in range(med_nuclei.shape[0]):\n",
    "    med_nuclei2[i,:,:][np.where(bead2)] = 0\n",
    "    med_nuclei2[i,:,:][np.where(bw_not)] = 0\n",
    "    #np.logical_and(med_nuclei2[i,:,:], np.logical_not(bead2))\n",
    "\n",
    "viewer.add_image(med_nuclei2, name=\"med_nuclei2\")\n",
    "\n",
    "# Downsize the image if it is large, so that the segmentation will not take so much time depending on the computing power.\n",
    "if med_nuclei.shape[1] >= 2048:\n",
    "    md = 4\n",
    "elif med_nuclei.shape[1] == 1024:\n",
    "    md = 2\n",
    "else:\n",
    "    md = 1\n",
    "med_n_ds = (med_nuclei2[:, ::md, ::md]).astype(np.float64)\n",
    "viewer.add_image(med_n_ds, name=\"med_n_ds\")"
   ]
  },
  {
   "cell_type": "code",
   "execution_count": 36,
   "id": "e3608333-346e-465f-9057-959a45df76b5",
   "metadata": {},
   "outputs": [
    {
     "data": {
      "text/plain": [
       "<Labels layer 'bw_n' at 0x1f6b1319540>"
      ]
     },
     "execution_count": 36,
     "metadata": {},
     "output_type": "execute_result"
    }
   ],
   "source": [
    "# Chan-Vese segmentation:\n",
    "# increasing/decreasing iterations for more precise detection of nuclei.\n",
    "# Decrease iterations if not enough nuclei segmented. For details you can check scikit image chan-vese segmentation.\n",
    "# If checkerboard segmentation does not work, alternatively you can use mask_alternate as the mask instead of checkerboard\n",
    "max_proj_med_nuclei2 = np.max(med_nuclei2, axis=0)\n",
    "mask_alternate = np.zeros(med_nuclei2.shape)\n",
    "for i in range(med_nuclei2.shape[0]):\n",
    "    mask_alternate[i,:,:] = max_proj_med_nuclei2\n",
    "mask2 = (mask_alternate[:, ::md, ::md]).astype(np.float64)\n",
    "\n",
    "bw_n = morphological_chan_vese(image=med_n_ds, num_iter=6, init_level_set=mask2, lambda1=1, lambda2=1) \n",
    "viewer.add_labels(bw_n, name=\"bw_n\")"
   ]
  },
  {
   "cell_type": "code",
   "execution_count": 37,
   "id": "b0216f96-aa19-44c1-aadb-d85b70e1e7c1",
   "metadata": {},
   "outputs": [
    {
     "data": {
      "text/plain": [
       "<Labels layer 'bw_n2' at 0x1f6bfc97cd0>"
      ]
     },
     "execution_count": 37,
     "metadata": {},
     "output_type": "execute_result"
    }
   ],
   "source": [
    "# Optional!\n",
    "# If it is easier to see/check using 2D projections, check the segmentation using this part.\n",
    "max_proj_bwn = np.max(bw_n, axis=0)\n",
    "max_proj_med_n_ds = np.max(med_n_ds, axis=0)\n",
    "\n",
    "viewer.add_image(max_proj_med_n_ds, name=\"med_n_ds2\")\n",
    "viewer.add_labels(max_proj_bwn, name=\"bw_n2\")\n",
    "# if satisfied continue."
   ]
  },
  {
   "cell_type": "code",
   "execution_count": 38,
   "id": "8a04fc90-582a-41c0-90ab-43bb81804f6e",
   "metadata": {},
   "outputs": [
    {
     "data": {
      "text/plain": [
       "(<Figure size 640x480 with 1 Axes>,\n",
       " (array([0., 1., 1., 0., 0., 0., 1., 0., 0., 0., 0., 3., 0., 0., 0., 0., 2.,\n",
       "         2., 3., 1., 2., 0., 1., 0., 0., 0., 0., 0., 0., 0., 0., 0., 0., 0.,\n",
       "         0., 0., 0., 1., 0., 0., 0., 0., 0., 0., 0., 0., 0., 0., 0., 0., 0.,\n",
       "         1., 0., 0., 0., 0., 0., 1., 1., 0., 0., 0., 0., 0., 0., 0., 0., 0.,\n",
       "         0., 0., 0., 0., 0., 0., 0., 0., 0., 0., 0., 0., 0., 0., 0., 0., 0.,\n",
       "         0., 0., 0., 0., 0., 0., 0., 0., 0., 0., 0., 0., 0., 0., 0., 0., 0.,\n",
       "         0., 0., 0., 0., 0., 0., 0., 0., 0., 0., 0., 0., 0., 0., 0., 0., 0.,\n",
       "         0., 0., 0., 0., 0., 0., 0., 0., 0., 0., 0., 0., 0., 0., 0., 0., 0.,\n",
       "         0., 0., 0., 0., 0., 0., 0., 0., 0., 0., 0., 0., 0., 0., 0., 0., 0.,\n",
       "         0., 0., 0., 0., 0., 0., 0., 0., 0., 0., 0., 0., 0., 0., 0., 0., 0.,\n",
       "         0., 0., 0., 0., 0., 0., 0., 0., 0., 0., 0., 0., 0., 0., 0., 0., 0.,\n",
       "         0., 0., 0., 0., 0., 0., 0., 0., 0., 0., 0., 0., 0.]),\n",
       "  array([   0.,   10.,   20.,   30.,   40.,   50.,   60.,   70.,   80.,\n",
       "           90.,  100.,  110.,  120.,  130.,  140.,  150.,  160.,  170.,\n",
       "          180.,  190.,  200.,  210.,  220.,  230.,  240.,  250.,  260.,\n",
       "          270.,  280.,  290.,  300.,  310.,  320.,  330.,  340.,  350.,\n",
       "          360.,  370.,  380.,  390.,  400.,  410.,  420.,  430.,  440.,\n",
       "          450.,  460.,  470.,  480.,  490.,  500.,  510.,  520.,  530.,\n",
       "          540.,  550.,  560.,  570.,  580.,  590.,  600.,  610.,  620.,\n",
       "          630.,  640.,  650.,  660.,  670.,  680.,  690.,  700.,  710.,\n",
       "          720.,  730.,  740.,  750.,  760.,  770.,  780.,  790.,  800.,\n",
       "          810.,  820.,  830.,  840.,  850.,  860.,  870.,  880.,  890.,\n",
       "          900.,  910.,  920.,  930.,  940.,  950.,  960.,  970.,  980.,\n",
       "          990., 1000., 1010., 1020., 1030., 1040., 1050., 1060., 1070.,\n",
       "         1080., 1090., 1100., 1110., 1120., 1130., 1140., 1150., 1160.,\n",
       "         1170., 1180., 1190., 1200., 1210., 1220., 1230., 1240., 1250.,\n",
       "         1260., 1270., 1280., 1290., 1300., 1310., 1320., 1330., 1340.,\n",
       "         1350., 1360., 1370., 1380., 1390., 1400., 1410., 1420., 1430.,\n",
       "         1440., 1450., 1460., 1470., 1480., 1490., 1500., 1510., 1520.,\n",
       "         1530., 1540., 1550., 1560., 1570., 1580., 1590., 1600., 1610.,\n",
       "         1620., 1630., 1640., 1650., 1660., 1670., 1680., 1690., 1700.,\n",
       "         1710., 1720., 1730., 1740., 1750., 1760., 1770., 1780., 1790.,\n",
       "         1800., 1810., 1820., 1830., 1840., 1850., 1860., 1870., 1880.,\n",
       "         1890., 1900., 1910., 1920., 1930., 1940., 1950., 1960., 1970.,\n",
       "         1980., 1990., 2000.]),\n",
       "  <BarContainer object of 200 artists>))"
      ]
     },
     "execution_count": 38,
     "metadata": {},
     "output_type": "execute_result"
    },
    {
     "data": {
      "image/png": "[encoded data removed]",
      "text/plain": [
       "<Figure size 640x480 with 1 Axes>"
      ]
     },
     "metadata": {},
     "output_type": "display_data"
    }
   ],
   "source": [
    "# Histogram of objects. To select the area threshold and correct object afterwards.\n",
    "bw_nn = bw_n.astype(np.bool_)\n",
    "bw_nn = (resize(bw_nn, output_shape=(med_nuclei.shape), order=0)).astype(np.bool_)\n",
    "lbl_n = label(bw_nn, connectivity=1)\n",
    "stats = regionprops(lbl_n)\n",
    "label_n, area_n, eqds_n, maj_axis_n, box_n, centroid_n, image_n = [], [], [], [], [], [], []\n",
    "for p in stats:\n",
    "    label_n.append(p.label)\n",
    "    area_n.append(p.area)\n",
    "    eqds_n.append(p.equivalent_diameter)\n",
    "    maj_axis_n.append(p.major_axis_length)\n",
    "    box_n.append(p.bbox)\n",
    "    centroid_n.append(p.centroid)\n",
    "    image_n.append(p.image)\n",
    "\n",
    "objects_library = {\"label_n\":label_n, \"image_n\":image_n, \"area_n\":area_n,\n",
    "                   \"eqds_n\":eqds_n, \"maj_Axis_n\":maj_axis_n, \"box_n\":box_n, \"centroid_n\":centroid_n}\n",
    "\n",
    "# You can change the range of the histogram to see the details\n",
    "plt.figure(), plt.hist(area_n, bins=200, range=(0,2000))"
   ]
  },
  {
   "cell_type": "code",
   "execution_count": 39,
   "id": "938b52b1-52fa-47ed-bffc-ee39da44987b",
   "metadata": {},
   "outputs": [
    {
     "data": {
      "text/plain": [
       "<Points layer 'rep' at 0x1f6b1580d60>"
      ]
     },
     "execution_count": 39,
     "metadata": {},
     "output_type": "execute_result"
    },
    {
     "data": {
      "image/png": "[encoded data removed]",
      "text/plain": [
       "<Figure size 640x480 with 1 Axes>"
      ]
     },
     "metadata": {},
     "output_type": "display_data"
    }
   ],
   "source": [
    "# Nuclei location detection:\n",
    "# Based on histogram, you can change area_threshold:\n",
    "area_threshold = [30, 400]\n",
    "correct_obj = (np.array(objects_library[\"area_n\"])>area_threshold[0]) & (np.array(objects_library[\"area_n\"])<area_threshold[1])\n",
    "in_range_eqds = np.array(objects_library[\"eqds_n\"])[correct_obj]\n",
    "cents = np.array(objects_library[\"centroid_n\"])[correct_obj]\n",
    "cents_f = cents.astype(int)\n",
    "rep = np.zeros(med_nuclei.shape, dtype=np.bool_)\n",
    "for i in cents_f:    \n",
    "    rep[tuple(i)]=True\n",
    "large_obj = np.array(objects_library[\"area_n\"])>=area_threshold[1]\n",
    "intensity_thr = 0.1\n",
    "theta_gd = np.mean(in_range_eqds)\n",
    "himg = med_nuclei / np.max(med_nuclei)\n",
    "\n",
    "for i in range(len(large_obj)):\n",
    "    if large_obj[i]: \n",
    "        #print(i)           \n",
    "        bb = objects_library[\"box_n\"][i]\n",
    "        D = himg[bb[0]:bb[3], bb[1]:bb[4], bb[2]:bb[5]]        \n",
    "        B = bw_nn[bb[0]:bb[3], bb[1]:bb[4], bb[2]:bb[5]]\n",
    "        Dfil = gaussian_filter(np.pad(D, [5]), sigma=0)\n",
    "        Dfil = Dfil[5:-5, 5:-5, 5:-5]               \n",
    "        reg_max = local_maxima(Dfil, connectivity=3, indices=False, allow_borders=False)\n",
    "        reg_max = np.logical_and(reg_max, B)        \n",
    "        reg_max_idx = np.argwhere(reg_max) \n",
    "        if len(reg_max_idx):      \n",
    "            reg_max_idx = [x for x in reg_max_idx if Dfil[tuple(x)]>=intensity_thr]\n",
    "            reg_max_value = [Dfil[tuple(x)] for x in reg_max_idx] \n",
    "            ranked = np.argsort(reg_max_value)[::-1]            \n",
    "            reg_max_idx = [reg_max_idx[x] for x in ranked]\n",
    "            flags = np.ones(len(reg_max_idx), dtype=bool)\n",
    "            for j in range(len(reg_max_idx)):\n",
    "                if flags[j]:\n",
    "                    for k in range(j+1, len(reg_max_idx)):                                                                                         \n",
    "                        path_seq, cost = shortest_path(B, reg_max_idx[j], reg_max_idx[k])\n",
    "                        if cost<theta_gd:\n",
    "                            flags[k] = False    \n",
    "            reg_max_idx = np.array(reg_max_idx)[flags]\n",
    "        for x in reg_max_idx:\n",
    "            x = tuple((x[0]+bb[0], x[1]+bb[1], x[2]+bb[2]))\n",
    "            rep[tuple(x)]=True\n",
    "vis_rep = np.max(rep, axis=0)\n",
    "\n",
    "#print(rep)\n",
    "\n",
    "[rr, cc] = np.where(vis_rep)\n",
    "plt.figure(), plt.imshow(max_projection_n)\n",
    "plt.scatter(cc, rr, s=5, c='yellow')\n",
    "\n",
    "dots = []\n",
    "for i in range(len(rr)):\n",
    "    dots.append((rr[i],cc[i]))\n",
    "\n",
    "max_proj_nuclei = np.max(med_nuclei2, axis=0)\n",
    "viewer.add_image(max_proj_nuclei, name=\"max_proj_nuclei\")\n",
    "viewer.add_points(dots, name=\"rep\", size=5, face_color='yellow')"
   ]
  },
  {
   "cell_type": "code",
   "execution_count": 24,
   "id": "39ad5b2b-b253-497d-9655-6adca04b0529",
   "metadata": {},
   "outputs": [
    {
     "name": "stdout",
     "output_type": "stream",
     "text": [
      "1 skeleton length is: 71\n",
      "2 skeleton length is: 20\n",
      "3 skeleton length is: 58\n",
      "3 paired_dist_in_this_sprout: []\n",
      "4 skeleton length is: 71\n",
      "5 skeleton length is: 16\n",
      "6 skeleton length is: 1\n",
      "7 skeleton length is: 20\n",
      "8 skeleton length is: 182\n"
     ]
    },
    {
     "data": {
      "image/png": "[encoded data removed]",
      "text/plain": [
       "<Figure size 640x480 with 1 Axes>"
      ]
     },
     "metadata": {},
     "output_type": "display_data"
    }
   ],
   "source": [
    "# Lumen space analysis: Regional width and paired nuclei distance analysis\n",
    "from scipy.ndimage import distance_transform_edt as distance\n",
    "from scipy.spatial.distance import cdist\n",
    "def curve_parametrization(L):\n",
    "    # not entirely correct\n",
    "    s = L[0]\n",
    "    dist = np.sum((L-s)**2, axis=1)\n",
    "    max_inx = np.argmax(dist)\n",
    "    s = L[max_inx]\n",
    "    dist = np.sum((L-s)**2, axis=1)\n",
    "    ranked = np.argsort(dist)[::-1]\n",
    "    return L[ranked]\n",
    "def point_in_lineside (points, curve):\n",
    "    \"\"\"d=(x−x1)(y2−y1)−(y−y1)(x2−x1), where [x,y] are points to assess,\n",
    "    and [x1 y1], [x2 y2] form the line segment\n",
    "    if d>0 or d<0 the point is in either side of the line\"\"\"\n",
    "    dist_to_curve = cdist(points, curve, 'euclidean')\n",
    "    proj = np.argmin(dist_to_curve, axis=1)\n",
    "    ll = len(L)-1\n",
    "    if ll in proj: proj[proj==ll] = ll-1\n",
    "    proj_ep = proj+1\n",
    "    d1 = L[proj_ep] - L[proj]\n",
    "    d2 = rep_coord - L[proj]\n",
    "    d = (d2[:,1] * d1[:,0]) - (d2[:,0] *  d1[:,1])\n",
    "    return d\n",
    "\n",
    "skeleton = pix_skl\n",
    "skeleton = [curve_parametrization(L) for L in skeleton]\n",
    "num_sp = sprouts.max()\n",
    "num_skl = len(skeleton)\n",
    "mproj = np.logical_or(bead, sprouts)\n",
    "D = distance(mproj)\n",
    "rep_2d = np.max(rep, axis=0)\n",
    "mproj_n = np.max(med_nuclei, axis=0)\n",
    "plt.imshow(np.max(med_nuclei, axis=0))\n",
    "i_list = []\n",
    "skel_len_list = []\n",
    "tip_width_list = []\n",
    "stalk_width_list = []\n",
    "root_width_list = []\n",
    "paired_dist_list = []\n",
    "\n",
    "for i in range(1, num_sp+1):\n",
    "    sprout_name = str(i)\n",
    "    prop = {\"sp_skeleton\":[]}\n",
    "    sp = sprouts==i    \n",
    "    skl_intsc = np.zeros(num_skl)\n",
    "    for j in range(len(skeleton)):\n",
    "        L = skeleton[j]\n",
    "        intsc = np.array([sp[tuple(x)] for x in L])\n",
    "        skl_intsc[j] = intsc.sum()\n",
    "    max_inx = np.argmax(skl_intsc)\n",
    "    L = skeleton[max_inx]\n",
    "    intsc = np.array([sprouts[tuple(x)] for x in L])\n",
    "    non_z = intsc!=0\n",
    "    L = L[non_z,:]\n",
    "    if non_z[0]==False:\n",
    "        L = np.flipud(L)\n",
    "    prop = {\"sp_skeleton\": L}\n",
    "    prop[\"sp_skel_len\"] = len(L) #>>chnge\n",
    "    thick = np.array([D[tuple(x)] for x in L])\n",
    "    prop[\"thick\"] = thick\n",
    "    print(sprout_name,\"skeleton length is:\",len(L))\n",
    "    skel_len_list.append(len(L))\n",
    "    \n",
    "    if len(L)>30:\n",
    "        tip_sp = int(0.25*len(L)); tip_sp = range(tip_sp-2,tip_sp+2)\n",
    "        mid_sp = int(0.50*len(L)); mid_sp = range(mid_sp-2,mid_sp+2)\n",
    "        end_sp = int(0.75*len(L)); end_sp = range(end_sp-2,end_sp+2)\n",
    "        prop[\"tip_width\"] = np.mean(thick[tip_sp])*2\n",
    "        prop[\"stalk_width\"] = np.mean(thick[mid_sp])*2\n",
    "        prop[\"root_width\"] = np.mean(thick[end_sp])*2\n",
    "        \n",
    "        tip_width_list.append(prop[\"tip_width\"])\n",
    "        stalk_width_list.append(prop[\"stalk_width\"])\n",
    "        root_width_list.append(prop[\"root_width\"])\n",
    "        \n",
    "    else:\n",
    "        mid_sp = int(0.50*len(L)); mid_sp = range(mid_sp-1,mid_sp+1)\n",
    "        prop[\"stalk_width\"] = np.mean(thick[mid_sp])*2\n",
    "        stalk_width_list.append(prop[\"stalk_width\"])\n",
    "\n",
    "    rep_sp = np.logical_and(sp, rep_2d)\n",
    "    rep_coord = np.array(np.where(rep_sp)).T\n",
    "    if len(rep_coord)==0:\n",
    "        prop[\"paired_n\"] = []\n",
    "        prop[\"paired_dist\"] = []\n",
    "        continue\n",
    "    d = point_in_lineside (rep_coord, L)\n",
    "    rep1 = rep_coord[d>0]\n",
    "    rep2 = rep_coord[d<0]\n",
    "    if len(rep1)>len(rep2):\n",
    "        rep1 = rep_coord[d<0]\n",
    "        rep2 = rep_coord[d>0]\n",
    "    dist_to_curve = cdist(rep1, L, 'euclidean')\n",
    "    proj1 = L[np.argmin(dist_to_curve, axis=1)]\n",
    "    dist_to_curve = cdist(rep2, L, 'euclidean')\n",
    "    proj2 = L[np.argmin(dist_to_curve, axis=1)]\n",
    "    pair_dist = cdist(proj1, proj2, 'euclidean') \n",
    "\n",
    "    if len(pair_dist) > 0:\n",
    "        mv = np.min(pair_dist, axis=1)\n",
    "        mi = np.argmin(pair_dist, axis=1)\n",
    "        p = np.vstack((range(len(mi)), mi)).T\n",
    "        a = np.unique(mi)\n",
    "        paired_n = np.zeros((len(a), 2), dtype=int)\n",
    "        paired_dist = np.zeros(len(a))\n",
    "        plt.plot(L[:,1], L[:,0], \"r\")\n",
    "        plt.plot(rep1[:,1], rep1[:,0], '.', markersize=1, color=\"yellow\")\n",
    "        plt.plot(rep2[:,1], rep2[:,0], '.', markersize=1, color=\"green\")\n",
    "        plt.plot(proj1[:,1], proj1[:,0], '.', markersize=1, color=\"blue\")\n",
    "        plt.plot(proj2[:,1], proj2[:,0], '.', markersize=1, color=\"magenta\")\n",
    "        plt.axis('equal')\n",
    "    \n",
    "        for ii in range(len(a)):\n",
    "            bb = np.where(mi==a[ii])[0]\n",
    "            if len(bb)==1:\n",
    "                paired_n[ii,:] = p[bb, :]\n",
    "            else:\n",
    "                cc = np.argmin(mv[bb])\n",
    "                paired_n[ii,:] = p[bb[cc], :]\n",
    "            pp = paired_n[ii, :]\n",
    "            x1 = np.expand_dims((rep1[pp[0]]), axis=1).T\n",
    "            x2 = np.expand_dims((rep2[pp[1]]), axis=1).T\n",
    "        \n",
    "        # Putting a threshold value for paired distance according to width results:\n",
    "            if cdist(x1, x2, 'euclidean') < np.max(thick):\n",
    "                paired_dist[ii] = cdist(x1, x2, 'euclidean')\n",
    "            else:\n",
    "                continue\n",
    "        \n",
    "            # Putting a threshold value for paired distance according to width results:\n",
    "            if paired_dist[ii] < np.max(thick):\n",
    "                x = np.append(x1,x2, axis=0)\n",
    "                plt.plot(x[:,1], x[:,0])\n",
    "            else:\n",
    "                continue\n",
    "        prop[\"paired_n\"] = paired_n\n",
    "        prop[\"paired_dist\"] = paired_dist\n",
    "    \n",
    "        paired_dist_in_a_sprout=[]\n",
    "        for i in paired_dist:\n",
    "            if i > 0:\n",
    "                paired_dist_in_a_sprout.append(i)\n",
    "        print(sprout_name,\"paired_dist_in_this_sprout:\",paired_dist_in_a_sprout)\n",
    "\n",
    "        if len(paired_dist_in_a_sprout)>0:\n",
    "            paired_dist_average = sum(paired_dist_in_a_sprout)/len(paired_dist_in_a_sprout)\n",
    "            print(sprout_name,\"paired_dist_average:\",paired_dist_average)\n",
    "            paired_dist_list.append(paired_dist_average)\n",
    "        else:\n",
    "            continue\n",
    "    else:\n",
    "        continue\n",
    "    \n",
    "    fig_xyz = plt.savefig('analyzed_image', dpi = 300)  \n",
    "    i_list.append(str(i))\n",
    "\n",
    "nuclei_count = np.count_nonzero(rep)"
   ]
  },
  {
   "cell_type": "code",
   "execution_count": 25,
   "id": "b2594801-46e5-40e6-8a54-6896cf0d582c",
   "metadata": {},
   "outputs": [
    {
     "name": "stdout",
     "output_type": "stream",
     "text": [
      "skeleton_length_measurements: [71, 20, 58, 71, 16, 1, 20, 182]\n",
      "\n",
      "tip_width_measurements: [3.7071067811865475, 6.802775637731995, 3.7071067811865475, 6.767828935632369]\n",
      "stalk_width_measurements: [8.918941133868262, 5.06449510224598, 4.118033988749895, 8.918941133868262, 3.414213562373095, 8.246211251235321, 6.767828935632369, 6.883914467816185]\n",
      "root_width_measurements: [7.72865690108165, 5.53224755112299, 7.72865690108165, 5.61338638120718]\n",
      "\n",
      "paired_dist_measurements per sprout: []\n",
      "\n",
      "sprout_number: 8\n",
      "skeleton_length_avg: 54.875\n",
      "nuclei number: 21\n",
      "\n",
      "tip_width_avg 5.246204533934365\n",
      "stalk_width_avg 6.541572446973671\n",
      "root_width_avg 6.650736933623367\n",
      "\n"
     ]
    }
   ],
   "source": [
    "# Printing the measured results\n",
    "print(\"skeleton_length_measurements:\",skel_len_list)\n",
    "print()\n",
    "print(\"tip_width_measurements:\", tip_width_list)\n",
    "print(\"stalk_width_measurements:\", stalk_width_list)\n",
    "print(\"root_width_measurements:\", root_width_list)\n",
    "print()\n",
    "print(\"paired_dist_measurements per sprout:\", paired_dist_list)\n",
    "print()\n",
    "print(\"sprout_number:\", len(skel_len_list))\n",
    "print(\"skeleton_length_avg:\",sum(skel_len_list)/len(skel_len_list))\n",
    "print(\"nuclei number:\",nuclei_count)\n",
    "print()\n",
    "print(\"tip_width_avg\",sum(tip_width_list)/len(tip_width_list))\n",
    "print(\"stalk_width_avg\",sum(stalk_width_list)/len(stalk_width_list))\n",
    "print(\"root_width_avg\",sum(root_width_list)/len(root_width_list))\n",
    "print()\n",
    "if len(paired_dist_list)>0:\n",
    "    print(\"paired_dist average per bead:\",sum(paired_dist_list)/len(paired_dist_list))"
   ]
  },
  {
   "cell_type": "code",
   "execution_count": null,
   "id": "76bef1c5-8391-4345-8bba-4ca0c4dbb4a3",
   "metadata": {},
   "outputs": [],
   "source": []
  }
 ],
 "metadata": {
  "kernelspec": {
   "display_name": "Python 3 (ipykernel)",
   "language": "python",
   "name": "python3"
  },
  "language_info": {
   "codemirror_mode": {
    "name": "ipython",
    "version": 3
   },
   "file_extension": ".py",
   "mimetype": "text/x-python",
   "name": "python",
   "nbconvert_exporter": "python",
   "pygments_lexer": "ipython3",
   "version": "3.10.4"
  }
 },
 "nbformat": 4,
 "nbformat_minor": 5
}
